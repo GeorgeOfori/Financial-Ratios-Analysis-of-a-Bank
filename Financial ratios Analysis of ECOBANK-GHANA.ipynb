{
 "cells": [
  {
   "cell_type": "code",
   "execution_count": 52,
   "id": "116f251b",
   "metadata": {},
   "outputs": [],
   "source": [
    "#import the libraries\n",
    "import pandas as pd\n",
    "import matplotlib.pyplot as plt"
   ]
  },
  {
   "cell_type": "code",
   "execution_count": 53,
   "id": "7f8d39d2",
   "metadata": {},
   "outputs": [],
   "source": [
    "#load data into Daataframe\n",
    "df = pd.read_csv('C://Users//georg//Desktop//ECOBANK_DATA.csv')"
   ]
  },
  {
   "cell_type": "code",
   "execution_count": 54,
   "id": "0df993b9",
   "metadata": {},
   "outputs": [
    {
     "data": {
      "text/html": [
       "<div>\n",
       "<style scoped>\n",
       "    .dataframe tbody tr th:only-of-type {\n",
       "        vertical-align: middle;\n",
       "    }\n",
       "\n",
       "    .dataframe tbody tr th {\n",
       "        vertical-align: top;\n",
       "    }\n",
       "\n",
       "    .dataframe thead th {\n",
       "        text-align: right;\n",
       "    }\n",
       "</style>\n",
       "<table border=\"1\" class=\"dataframe\">\n",
       "  <thead>\n",
       "    <tr style=\"text-align: right;\">\n",
       "      <th></th>\n",
       "      <th>year</th>\n",
       "      <th>Age</th>\n",
       "      <th>ownership</th>\n",
       "      <th>industry share of total deposits(%)</th>\n",
       "      <th>ROE(%)</th>\n",
       "      <th>ROA(%)</th>\n",
       "      <th>net interest margin(%)</th>\n",
       "      <th>Liquid Fnds/Tot Dep</th>\n",
       "      <th>Liquid Funds/Tot Assets</th>\n",
       "      <th>Liquid Funds/Tot Interest Bearing Liab</th>\n",
       "      <th>Impairment charge/Gross Lns Advancemnt</th>\n",
       "      <th>Impairment Allowance/Gross Lns and Advancements</th>\n",
       "      <th>Loan Porfolio Profitability</th>\n",
       "    </tr>\n",
       "  </thead>\n",
       "  <tbody>\n",
       "    <tr>\n",
       "      <th>0</th>\n",
       "      <td>2002</td>\n",
       "      <td>85</td>\n",
       "      <td>foreign</td>\n",
       "      <td>5.90</td>\n",
       "      <td>46.7</td>\n",
       "      <td>4.13</td>\n",
       "      <td>11.4</td>\n",
       "      <td>0.81</td>\n",
       "      <td>0.57</td>\n",
       "      <td>NaN</td>\n",
       "      <td>NaN</td>\n",
       "      <td>NaN</td>\n",
       "      <td>14.77</td>\n",
       "    </tr>\n",
       "    <tr>\n",
       "      <th>1</th>\n",
       "      <td>2003</td>\n",
       "      <td>86</td>\n",
       "      <td>foreign</td>\n",
       "      <td>6.63</td>\n",
       "      <td>45.0</td>\n",
       "      <td>4.00</td>\n",
       "      <td>13.5</td>\n",
       "      <td>0.77</td>\n",
       "      <td>0.57</td>\n",
       "      <td>NaN</td>\n",
       "      <td>NaN</td>\n",
       "      <td>NaN</td>\n",
       "      <td>13.68</td>\n",
       "    </tr>\n",
       "    <tr>\n",
       "      <th>2</th>\n",
       "      <td>2004</td>\n",
       "      <td>87</td>\n",
       "      <td>foreign</td>\n",
       "      <td>7.49</td>\n",
       "      <td>45.5</td>\n",
       "      <td>4.00</td>\n",
       "      <td>12.0</td>\n",
       "      <td>0.85</td>\n",
       "      <td>0.66</td>\n",
       "      <td>NaN</td>\n",
       "      <td>NaN</td>\n",
       "      <td>NaN</td>\n",
       "      <td>17.07</td>\n",
       "    </tr>\n",
       "    <tr>\n",
       "      <th>3</th>\n",
       "      <td>2005</td>\n",
       "      <td>88</td>\n",
       "      <td>foreign</td>\n",
       "      <td>8.73</td>\n",
       "      <td>52.8</td>\n",
       "      <td>4.20</td>\n",
       "      <td>11.9</td>\n",
       "      <td>0.77</td>\n",
       "      <td>0.59</td>\n",
       "      <td>NaN</td>\n",
       "      <td>NaN</td>\n",
       "      <td>NaN</td>\n",
       "      <td>11.75</td>\n",
       "    </tr>\n",
       "    <tr>\n",
       "      <th>4</th>\n",
       "      <td>2006</td>\n",
       "      <td>89</td>\n",
       "      <td>foreign</td>\n",
       "      <td>8.09</td>\n",
       "      <td>53.3</td>\n",
       "      <td>4.40</td>\n",
       "      <td>11.7</td>\n",
       "      <td>0.71</td>\n",
       "      <td>0.54</td>\n",
       "      <td>NaN</td>\n",
       "      <td>NaN</td>\n",
       "      <td>NaN</td>\n",
       "      <td>13.80</td>\n",
       "    </tr>\n",
       "  </tbody>\n",
       "</table>\n",
       "</div>"
      ],
      "text/plain": [
       "   year  Age ownership  industry share of total deposits(%)  ROE(%)  ROA(%)  \\\n",
       "0  2002   85   foreign                                 5.90    46.7    4.13   \n",
       "1  2003   86   foreign                                 6.63    45.0    4.00   \n",
       "2  2004   87   foreign                                 7.49    45.5    4.00   \n",
       "3  2005   88   foreign                                 8.73    52.8    4.20   \n",
       "4  2006   89   foreign                                 8.09    53.3    4.40   \n",
       "\n",
       "   net interest margin(%)  Liquid Fnds/Tot Dep  Liquid Funds/Tot Assets  \\\n",
       "0                    11.4                 0.81                     0.57   \n",
       "1                    13.5                 0.77                     0.57   \n",
       "2                    12.0                 0.85                     0.66   \n",
       "3                    11.9                 0.77                     0.59   \n",
       "4                    11.7                 0.71                     0.54   \n",
       "\n",
       "   Liquid Funds/Tot Interest Bearing Liab  \\\n",
       "0                                     NaN   \n",
       "1                                     NaN   \n",
       "2                                     NaN   \n",
       "3                                     NaN   \n",
       "4                                     NaN   \n",
       "\n",
       "   Impairment charge/Gross Lns Advancemnt  \\\n",
       "0                                     NaN   \n",
       "1                                     NaN   \n",
       "2                                     NaN   \n",
       "3                                     NaN   \n",
       "4                                     NaN   \n",
       "\n",
       "   Impairment Allowance/Gross Lns and Advancements  \\\n",
       "0                                              NaN   \n",
       "1                                              NaN   \n",
       "2                                              NaN   \n",
       "3                                              NaN   \n",
       "4                                              NaN   \n",
       "\n",
       "   Loan Porfolio Profitability  \n",
       "0                        14.77  \n",
       "1                        13.68  \n",
       "2                        17.07  \n",
       "3                        11.75  \n",
       "4                        13.80  "
      ]
     },
     "execution_count": 54,
     "metadata": {},
     "output_type": "execute_result"
    }
   ],
   "source": [
    "df.head()"
   ]
  },
  {
   "cell_type": "markdown",
   "id": "15ae1a22",
   "metadata": {},
   "source": [
    "## Preprocessing and Cleaning of the Data"
   ]
  },
  {
   "cell_type": "code",
   "execution_count": 55,
   "id": "99dd649d",
   "metadata": {},
   "outputs": [
    {
     "data": {
      "text/plain": [
       "(17, 13)"
      ]
     },
     "execution_count": 55,
     "metadata": {},
     "output_type": "execute_result"
    }
   ],
   "source": [
    "df.shape"
   ]
  },
  {
   "cell_type": "code",
   "execution_count": 56,
   "id": "7c96f5c4",
   "metadata": {},
   "outputs": [
    {
     "data": {
      "text/plain": [
       "Index(['year', 'Age', 'ownership', 'industry share of total deposits(%)',\n",
       "       'ROE(%)', 'ROA(%)', 'net interest margin(%)', 'Liquid Fnds/Tot Dep',\n",
       "       'Liquid Funds/Tot Assets', 'Liquid Funds/Tot Interest Bearing Liab',\n",
       "       'Impairment charge/Gross Lns Advancemnt',\n",
       "       'Impairment Allowance/Gross Lns and Advancements',\n",
       "       'Loan Porfolio Profitability'],\n",
       "      dtype='object')"
      ]
     },
     "execution_count": 56,
     "metadata": {},
     "output_type": "execute_result"
    }
   ],
   "source": [
    "df.columns"
   ]
  },
  {
   "cell_type": "code",
   "execution_count": 57,
   "id": "b7ca82c7",
   "metadata": {},
   "outputs": [
    {
     "name": "stdout",
     "output_type": "stream",
     "text": [
      "<class 'pandas.core.frame.DataFrame'>\n",
      "RangeIndex: 17 entries, 0 to 16\n",
      "Data columns (total 13 columns):\n",
      " #   Column                                           Non-Null Count  Dtype  \n",
      "---  ------                                           --------------  -----  \n",
      " 0   year                                             17 non-null     int64  \n",
      " 1   Age                                              17 non-null     int64  \n",
      " 2   ownership                                        17 non-null     object \n",
      " 3   industry share of total deposits(%)              17 non-null     float64\n",
      " 4   ROE(%)                                           17 non-null     float64\n",
      " 5   ROA(%)                                           17 non-null     float64\n",
      " 6   net interest margin(%)                           17 non-null     float64\n",
      " 7   Liquid Fnds/Tot Dep                              17 non-null     float64\n",
      " 8   Liquid Funds/Tot Assets                          17 non-null     float64\n",
      " 9   Liquid Funds/Tot Interest Bearing Liab           11 non-null     float64\n",
      " 10  Impairment charge/Gross Lns Advancemnt           11 non-null     float64\n",
      " 11  Impairment Allowance/Gross Lns and Advancements  11 non-null     float64\n",
      " 12  Loan Porfolio Profitability                      13 non-null     float64\n",
      "dtypes: float64(10), int64(2), object(1)\n",
      "memory usage: 1.9+ KB\n"
     ]
    }
   ],
   "source": [
    "df.info()"
   ]
  },
  {
   "cell_type": "code",
   "execution_count": 58,
   "id": "83c89e38",
   "metadata": {},
   "outputs": [
    {
     "data": {
      "text/plain": [
       "year                                               0\n",
       "Age                                                0\n",
       "ownership                                          0\n",
       "industry share of total deposits(%)                0\n",
       "ROE(%)                                             0\n",
       "ROA(%)                                             0\n",
       "net interest margin(%)                             0\n",
       "Liquid Fnds/Tot Dep                                0\n",
       "Liquid Funds/Tot Assets                            0\n",
       "Liquid Funds/Tot Interest Bearing Liab             6\n",
       "Impairment charge/Gross Lns Advancemnt             6\n",
       "Impairment Allowance/Gross Lns and Advancements    6\n",
       "Loan Porfolio Profitability                        4\n",
       "dtype: int64"
      ]
     },
     "execution_count": 58,
     "metadata": {},
     "output_type": "execute_result"
    }
   ],
   "source": [
    "df.isnull().sum()"
   ]
  },
  {
   "cell_type": "code",
   "execution_count": 59,
   "id": "869238b0",
   "metadata": {},
   "outputs": [
    {
     "data": {
      "text/plain": [
       "0     False\n",
       "1     False\n",
       "2     False\n",
       "3     False\n",
       "4     False\n",
       "5     False\n",
       "6     False\n",
       "7     False\n",
       "8     False\n",
       "9     False\n",
       "10    False\n",
       "11    False\n",
       "12    False\n",
       "13    False\n",
       "14    False\n",
       "15    False\n",
       "16    False\n",
       "dtype: bool"
      ]
     },
     "execution_count": 59,
     "metadata": {},
     "output_type": "execute_result"
    }
   ],
   "source": [
    "df.duplicated()"
   ]
  },
  {
   "cell_type": "code",
   "execution_count": 60,
   "id": "7356afe1",
   "metadata": {},
   "outputs": [],
   "source": [
    "#Dropping  columns\n",
    "df.drop(['Age', 'ownership'] , axis = 1, inplace = True)\n"
   ]
  },
  {
   "cell_type": "code",
   "execution_count": 61,
   "id": "068a6bd7",
   "metadata": {},
   "outputs": [
    {
     "data": {
      "text/plain": [
       "(17, 11)"
      ]
     },
     "execution_count": 61,
     "metadata": {},
     "output_type": "execute_result"
    }
   ],
   "source": [
    "df.shape"
   ]
  },
  {
   "cell_type": "code",
   "execution_count": 62,
   "id": "6a950504",
   "metadata": {},
   "outputs": [
    {
     "data": {
      "text/plain": [
       "Index(['year', 'industry share of total deposits(%)', 'ROE(%)', 'ROA(%)',\n",
       "       'net interest margin(%)', 'Liquid Fnds/Tot Dep',\n",
       "       'Liquid Funds/Tot Assets', 'Liquid Funds/Tot Interest Bearing Liab',\n",
       "       'Impairment charge/Gross Lns Advancemnt',\n",
       "       'Impairment Allowance/Gross Lns and Advancements',\n",
       "       'Loan Porfolio Profitability'],\n",
       "      dtype='object')"
      ]
     },
     "execution_count": 62,
     "metadata": {},
     "output_type": "execute_result"
    }
   ],
   "source": [
    "df.columns"
   ]
  },
  {
   "cell_type": "code",
   "execution_count": 77,
   "id": "d0cb25e1",
   "metadata": {},
   "outputs": [
    {
     "data": {
      "text/html": [
       "<div>\n",
       "<style scoped>\n",
       "    .dataframe tbody tr th:only-of-type {\n",
       "        vertical-align: middle;\n",
       "    }\n",
       "\n",
       "    .dataframe tbody tr th {\n",
       "        vertical-align: top;\n",
       "    }\n",
       "\n",
       "    .dataframe thead th {\n",
       "        text-align: right;\n",
       "    }\n",
       "</style>\n",
       "<table border=\"1\" class=\"dataframe\">\n",
       "  <thead>\n",
       "    <tr style=\"text-align: right;\">\n",
       "      <th></th>\n",
       "      <th>year</th>\n",
       "      <th>industry share of total deposits(%)</th>\n",
       "      <th>ROE(%)</th>\n",
       "      <th>ROA(%)</th>\n",
       "      <th>net interest margin(%)</th>\n",
       "      <th>Liquid Fnds/Tot Dep</th>\n",
       "      <th>Liquid Funds/Tot Assets</th>\n",
       "      <th>Liquid Funds/Tot Interest Bearing Liab</th>\n",
       "      <th>Impairment charge/Gross Lns Advancemnt</th>\n",
       "      <th>Impairment Allowance/Gross Lns and Advancements</th>\n",
       "      <th>Loan Porfolio Profitability</th>\n",
       "    </tr>\n",
       "  </thead>\n",
       "  <tbody>\n",
       "    <tr>\n",
       "      <th>count</th>\n",
       "      <td>17.000000</td>\n",
       "      <td>17.000000</td>\n",
       "      <td>17.000000</td>\n",
       "      <td>17.000000</td>\n",
       "      <td>17.000000</td>\n",
       "      <td>17.000000</td>\n",
       "      <td>17.000000</td>\n",
       "      <td>17.000000</td>\n",
       "      <td>17.000000</td>\n",
       "      <td>17.000000</td>\n",
       "      <td>17.000000</td>\n",
       "    </tr>\n",
       "    <tr>\n",
       "      <th>mean</th>\n",
       "      <td>2010.000000</td>\n",
       "      <td>9.669412</td>\n",
       "      <td>37.811765</td>\n",
       "      <td>4.001765</td>\n",
       "      <td>9.988235</td>\n",
       "      <td>0.706471</td>\n",
       "      <td>0.539412</td>\n",
       "      <td>4.077647</td>\n",
       "      <td>2.411765</td>\n",
       "      <td>3.729412</td>\n",
       "      <td>13.032941</td>\n",
       "    </tr>\n",
       "    <tr>\n",
       "      <th>std</th>\n",
       "      <td>5.049752</td>\n",
       "      <td>2.049599</td>\n",
       "      <td>9.904663</td>\n",
       "      <td>0.631805</td>\n",
       "      <td>2.257178</td>\n",
       "      <td>0.087603</td>\n",
       "      <td>0.064853</td>\n",
       "      <td>14.153310</td>\n",
       "      <td>1.315239</td>\n",
       "      <td>1.285868</td>\n",
       "      <td>2.217723</td>\n",
       "    </tr>\n",
       "    <tr>\n",
       "      <th>min</th>\n",
       "      <td>2002.000000</td>\n",
       "      <td>5.900000</td>\n",
       "      <td>24.900000</td>\n",
       "      <td>2.800000</td>\n",
       "      <td>5.800000</td>\n",
       "      <td>0.570000</td>\n",
       "      <td>0.430000</td>\n",
       "      <td>0.530000</td>\n",
       "      <td>1.100000</td>\n",
       "      <td>1.600000</td>\n",
       "      <td>8.300000</td>\n",
       "    </tr>\n",
       "    <tr>\n",
       "      <th>25%</th>\n",
       "      <td>2006.000000</td>\n",
       "      <td>8.440000</td>\n",
       "      <td>27.900000</td>\n",
       "      <td>3.800000</td>\n",
       "      <td>8.800000</td>\n",
       "      <td>0.630000</td>\n",
       "      <td>0.490000</td>\n",
       "      <td>0.640000</td>\n",
       "      <td>1.700000</td>\n",
       "      <td>2.800000</td>\n",
       "      <td>11.750000</td>\n",
       "    </tr>\n",
       "    <tr>\n",
       "      <th>50%</th>\n",
       "      <td>2010.000000</td>\n",
       "      <td>10.100000</td>\n",
       "      <td>37.200000</td>\n",
       "      <td>4.000000</td>\n",
       "      <td>10.500000</td>\n",
       "      <td>0.710000</td>\n",
       "      <td>0.540000</td>\n",
       "      <td>0.640000</td>\n",
       "      <td>2.000000</td>\n",
       "      <td>3.900000</td>\n",
       "      <td>13.680000</td>\n",
       "    </tr>\n",
       "    <tr>\n",
       "      <th>75%</th>\n",
       "      <td>2014.000000</td>\n",
       "      <td>11.300000</td>\n",
       "      <td>45.500000</td>\n",
       "      <td>4.200000</td>\n",
       "      <td>11.700000</td>\n",
       "      <td>0.770000</td>\n",
       "      <td>0.590000</td>\n",
       "      <td>0.700000</td>\n",
       "      <td>2.500000</td>\n",
       "      <td>4.000000</td>\n",
       "      <td>13.800000</td>\n",
       "    </tr>\n",
       "    <tr>\n",
       "      <th>max</th>\n",
       "      <td>2018.000000</td>\n",
       "      <td>12.900000</td>\n",
       "      <td>53.300000</td>\n",
       "      <td>5.500000</td>\n",
       "      <td>13.500000</td>\n",
       "      <td>0.850000</td>\n",
       "      <td>0.660000</td>\n",
       "      <td>59.000000</td>\n",
       "      <td>6.000000</td>\n",
       "      <td>7.400000</td>\n",
       "      <td>17.070000</td>\n",
       "    </tr>\n",
       "  </tbody>\n",
       "</table>\n",
       "</div>"
      ],
      "text/plain": [
       "              year  industry share of total deposits(%)     ROE(%)     ROA(%)  \\\n",
       "count    17.000000                            17.000000  17.000000  17.000000   \n",
       "mean   2010.000000                             9.669412  37.811765   4.001765   \n",
       "std       5.049752                             2.049599   9.904663   0.631805   \n",
       "min    2002.000000                             5.900000  24.900000   2.800000   \n",
       "25%    2006.000000                             8.440000  27.900000   3.800000   \n",
       "50%    2010.000000                            10.100000  37.200000   4.000000   \n",
       "75%    2014.000000                            11.300000  45.500000   4.200000   \n",
       "max    2018.000000                            12.900000  53.300000   5.500000   \n",
       "\n",
       "       net interest margin(%)  Liquid Fnds/Tot Dep  Liquid Funds/Tot Assets  \\\n",
       "count               17.000000            17.000000                17.000000   \n",
       "mean                 9.988235             0.706471                 0.539412   \n",
       "std                  2.257178             0.087603                 0.064853   \n",
       "min                  5.800000             0.570000                 0.430000   \n",
       "25%                  8.800000             0.630000                 0.490000   \n",
       "50%                 10.500000             0.710000                 0.540000   \n",
       "75%                 11.700000             0.770000                 0.590000   \n",
       "max                 13.500000             0.850000                 0.660000   \n",
       "\n",
       "       Liquid Funds/Tot Interest Bearing Liab  \\\n",
       "count                               17.000000   \n",
       "mean                                 4.077647   \n",
       "std                                 14.153310   \n",
       "min                                  0.530000   \n",
       "25%                                  0.640000   \n",
       "50%                                  0.640000   \n",
       "75%                                  0.700000   \n",
       "max                                 59.000000   \n",
       "\n",
       "       Impairment charge/Gross Lns Advancemnt  \\\n",
       "count                               17.000000   \n",
       "mean                                 2.411765   \n",
       "std                                  1.315239   \n",
       "min                                  1.100000   \n",
       "25%                                  1.700000   \n",
       "50%                                  2.000000   \n",
       "75%                                  2.500000   \n",
       "max                                  6.000000   \n",
       "\n",
       "       Impairment Allowance/Gross Lns and Advancements  \\\n",
       "count                                        17.000000   \n",
       "mean                                          3.729412   \n",
       "std                                           1.285868   \n",
       "min                                           1.600000   \n",
       "25%                                           2.800000   \n",
       "50%                                           3.900000   \n",
       "75%                                           4.000000   \n",
       "max                                           7.400000   \n",
       "\n",
       "       Loan Porfolio Profitability  \n",
       "count                    17.000000  \n",
       "mean                     13.032941  \n",
       "std                       2.217723  \n",
       "min                       8.300000  \n",
       "25%                      11.750000  \n",
       "50%                      13.680000  \n",
       "75%                      13.800000  \n",
       "max                      17.070000  "
      ]
     },
     "execution_count": 77,
     "metadata": {},
     "output_type": "execute_result"
    }
   ],
   "source": [
    "df.describe()"
   ]
  },
  {
   "cell_type": "code",
   "execution_count": 78,
   "id": "568ac84a",
   "metadata": {},
   "outputs": [
    {
     "data": {
      "text/html": [
       "<div>\n",
       "<style scoped>\n",
       "    .dataframe tbody tr th:only-of-type {\n",
       "        vertical-align: middle;\n",
       "    }\n",
       "\n",
       "    .dataframe tbody tr th {\n",
       "        vertical-align: top;\n",
       "    }\n",
       "\n",
       "    .dataframe thead th {\n",
       "        text-align: right;\n",
       "    }\n",
       "</style>\n",
       "<table border=\"1\" class=\"dataframe\">\n",
       "  <thead>\n",
       "    <tr style=\"text-align: right;\">\n",
       "      <th></th>\n",
       "      <th>year</th>\n",
       "      <th>industry share of total deposits(%)</th>\n",
       "      <th>ROE(%)</th>\n",
       "      <th>ROA(%)</th>\n",
       "      <th>net interest margin(%)</th>\n",
       "      <th>Liquid Fnds/Tot Dep</th>\n",
       "      <th>Liquid Funds/Tot Assets</th>\n",
       "      <th>Liquid Funds/Tot Interest Bearing Liab</th>\n",
       "      <th>Impairment charge/Gross Lns Advancemnt</th>\n",
       "      <th>Impairment Allowance/Gross Lns and Advancements</th>\n",
       "      <th>Loan Porfolio Profitability</th>\n",
       "    </tr>\n",
       "  </thead>\n",
       "  <tbody>\n",
       "    <tr>\n",
       "      <th>0</th>\n",
       "      <td>2002</td>\n",
       "      <td>5.90</td>\n",
       "      <td>46.7</td>\n",
       "      <td>4.13</td>\n",
       "      <td>11.4</td>\n",
       "      <td>0.81</td>\n",
       "      <td>0.57</td>\n",
       "      <td>0.64</td>\n",
       "      <td>2.0</td>\n",
       "      <td>3.9</td>\n",
       "      <td>14.77</td>\n",
       "    </tr>\n",
       "    <tr>\n",
       "      <th>1</th>\n",
       "      <td>2003</td>\n",
       "      <td>6.63</td>\n",
       "      <td>45.0</td>\n",
       "      <td>4.00</td>\n",
       "      <td>13.5</td>\n",
       "      <td>0.77</td>\n",
       "      <td>0.57</td>\n",
       "      <td>0.64</td>\n",
       "      <td>2.0</td>\n",
       "      <td>3.9</td>\n",
       "      <td>13.68</td>\n",
       "    </tr>\n",
       "    <tr>\n",
       "      <th>2</th>\n",
       "      <td>2004</td>\n",
       "      <td>7.49</td>\n",
       "      <td>45.5</td>\n",
       "      <td>4.00</td>\n",
       "      <td>12.0</td>\n",
       "      <td>0.85</td>\n",
       "      <td>0.66</td>\n",
       "      <td>0.64</td>\n",
       "      <td>2.0</td>\n",
       "      <td>3.9</td>\n",
       "      <td>17.07</td>\n",
       "    </tr>\n",
       "    <tr>\n",
       "      <th>3</th>\n",
       "      <td>2005</td>\n",
       "      <td>8.73</td>\n",
       "      <td>52.8</td>\n",
       "      <td>4.20</td>\n",
       "      <td>11.9</td>\n",
       "      <td>0.77</td>\n",
       "      <td>0.59</td>\n",
       "      <td>0.64</td>\n",
       "      <td>2.0</td>\n",
       "      <td>3.9</td>\n",
       "      <td>11.75</td>\n",
       "    </tr>\n",
       "    <tr>\n",
       "      <th>4</th>\n",
       "      <td>2006</td>\n",
       "      <td>8.09</td>\n",
       "      <td>53.3</td>\n",
       "      <td>4.40</td>\n",
       "      <td>11.7</td>\n",
       "      <td>0.71</td>\n",
       "      <td>0.54</td>\n",
       "      <td>0.64</td>\n",
       "      <td>2.0</td>\n",
       "      <td>3.9</td>\n",
       "      <td>13.80</td>\n",
       "    </tr>\n",
       "    <tr>\n",
       "      <th>5</th>\n",
       "      <td>2007</td>\n",
       "      <td>8.44</td>\n",
       "      <td>50.5</td>\n",
       "      <td>4.00</td>\n",
       "      <td>6.7</td>\n",
       "      <td>0.65</td>\n",
       "      <td>0.50</td>\n",
       "      <td>0.64</td>\n",
       "      <td>2.0</td>\n",
       "      <td>3.9</td>\n",
       "      <td>10.67</td>\n",
       "    </tr>\n",
       "    <tr>\n",
       "      <th>6</th>\n",
       "      <td>2008</td>\n",
       "      <td>8.50</td>\n",
       "      <td>41.6</td>\n",
       "      <td>3.80</td>\n",
       "      <td>5.8</td>\n",
       "      <td>0.58</td>\n",
       "      <td>0.44</td>\n",
       "      <td>0.53</td>\n",
       "      <td>1.4</td>\n",
       "      <td>2.3</td>\n",
       "      <td>9.40</td>\n",
       "    </tr>\n",
       "    <tr>\n",
       "      <th>7</th>\n",
       "      <td>2009</td>\n",
       "      <td>10.10</td>\n",
       "      <td>26.4</td>\n",
       "      <td>3.50</td>\n",
       "      <td>9.0</td>\n",
       "      <td>0.82</td>\n",
       "      <td>0.60</td>\n",
       "      <td>0.76</td>\n",
       "      <td>2.0</td>\n",
       "      <td>4.0</td>\n",
       "      <td>13.80</td>\n",
       "    </tr>\n",
       "    <tr>\n",
       "      <th>8</th>\n",
       "      <td>2010</td>\n",
       "      <td>8.80</td>\n",
       "      <td>26.8</td>\n",
       "      <td>3.90</td>\n",
       "      <td>7.4</td>\n",
       "      <td>0.79</td>\n",
       "      <td>0.62</td>\n",
       "      <td>0.74</td>\n",
       "      <td>1.1</td>\n",
       "      <td>2.8</td>\n",
       "      <td>12.70</td>\n",
       "    </tr>\n",
       "    <tr>\n",
       "      <th>9</th>\n",
       "      <td>2011</td>\n",
       "      <td>10.20</td>\n",
       "      <td>27.9</td>\n",
       "      <td>3.30</td>\n",
       "      <td>7.2</td>\n",
       "      <td>0.68</td>\n",
       "      <td>0.55</td>\n",
       "      <td>0.64</td>\n",
       "      <td>1.6</td>\n",
       "      <td>1.6</td>\n",
       "      <td>8.30</td>\n",
       "    </tr>\n",
       "  </tbody>\n",
       "</table>\n",
       "</div>"
      ],
      "text/plain": [
       "   year  industry share of total deposits(%)  ROE(%)  ROA(%)  \\\n",
       "0  2002                                 5.90    46.7    4.13   \n",
       "1  2003                                 6.63    45.0    4.00   \n",
       "2  2004                                 7.49    45.5    4.00   \n",
       "3  2005                                 8.73    52.8    4.20   \n",
       "4  2006                                 8.09    53.3    4.40   \n",
       "5  2007                                 8.44    50.5    4.00   \n",
       "6  2008                                 8.50    41.6    3.80   \n",
       "7  2009                                10.10    26.4    3.50   \n",
       "8  2010                                 8.80    26.8    3.90   \n",
       "9  2011                                10.20    27.9    3.30   \n",
       "\n",
       "   net interest margin(%)  Liquid Fnds/Tot Dep  Liquid Funds/Tot Assets  \\\n",
       "0                    11.4                 0.81                     0.57   \n",
       "1                    13.5                 0.77                     0.57   \n",
       "2                    12.0                 0.85                     0.66   \n",
       "3                    11.9                 0.77                     0.59   \n",
       "4                    11.7                 0.71                     0.54   \n",
       "5                     6.7                 0.65                     0.50   \n",
       "6                     5.8                 0.58                     0.44   \n",
       "7                     9.0                 0.82                     0.60   \n",
       "8                     7.4                 0.79                     0.62   \n",
       "9                     7.2                 0.68                     0.55   \n",
       "\n",
       "   Liquid Funds/Tot Interest Bearing Liab  \\\n",
       "0                                    0.64   \n",
       "1                                    0.64   \n",
       "2                                    0.64   \n",
       "3                                    0.64   \n",
       "4                                    0.64   \n",
       "5                                    0.64   \n",
       "6                                    0.53   \n",
       "7                                    0.76   \n",
       "8                                    0.74   \n",
       "9                                    0.64   \n",
       "\n",
       "   Impairment charge/Gross Lns Advancemnt  \\\n",
       "0                                     2.0   \n",
       "1                                     2.0   \n",
       "2                                     2.0   \n",
       "3                                     2.0   \n",
       "4                                     2.0   \n",
       "5                                     2.0   \n",
       "6                                     1.4   \n",
       "7                                     2.0   \n",
       "8                                     1.1   \n",
       "9                                     1.6   \n",
       "\n",
       "   Impairment Allowance/Gross Lns and Advancements  \\\n",
       "0                                              3.9   \n",
       "1                                              3.9   \n",
       "2                                              3.9   \n",
       "3                                              3.9   \n",
       "4                                              3.9   \n",
       "5                                              3.9   \n",
       "6                                              2.3   \n",
       "7                                              4.0   \n",
       "8                                              2.8   \n",
       "9                                              1.6   \n",
       "\n",
       "   Loan Porfolio Profitability  \n",
       "0                        14.77  \n",
       "1                        13.68  \n",
       "2                        17.07  \n",
       "3                        11.75  \n",
       "4                        13.80  \n",
       "5                        10.67  \n",
       "6                         9.40  \n",
       "7                        13.80  \n",
       "8                        12.70  \n",
       "9                         8.30  "
      ]
     },
     "execution_count": 78,
     "metadata": {},
     "output_type": "execute_result"
    }
   ],
   "source": [
    "df.head(10)"
   ]
  },
  {
   "cell_type": "code",
   "execution_count": 79,
   "id": "7f562854",
   "metadata": {},
   "outputs": [],
   "source": [
    "#filling the NaN with median\n",
    "df.fillna(df.median(), inplace=True)"
   ]
  },
  {
   "cell_type": "code",
   "execution_count": 80,
   "id": "195480c1",
   "metadata": {},
   "outputs": [
    {
     "data": {
      "text/html": [
       "<div>\n",
       "<style scoped>\n",
       "    .dataframe tbody tr th:only-of-type {\n",
       "        vertical-align: middle;\n",
       "    }\n",
       "\n",
       "    .dataframe tbody tr th {\n",
       "        vertical-align: top;\n",
       "    }\n",
       "\n",
       "    .dataframe thead th {\n",
       "        text-align: right;\n",
       "    }\n",
       "</style>\n",
       "<table border=\"1\" class=\"dataframe\">\n",
       "  <thead>\n",
       "    <tr style=\"text-align: right;\">\n",
       "      <th></th>\n",
       "      <th>year</th>\n",
       "      <th>industry share of total deposits(%)</th>\n",
       "      <th>ROE(%)</th>\n",
       "      <th>ROA(%)</th>\n",
       "      <th>net interest margin(%)</th>\n",
       "      <th>Liquid Fnds/Tot Dep</th>\n",
       "      <th>Liquid Funds/Tot Assets</th>\n",
       "      <th>Liquid Funds/Tot Interest Bearing Liab</th>\n",
       "      <th>Impairment charge/Gross Lns Advancemnt</th>\n",
       "      <th>Impairment Allowance/Gross Lns and Advancements</th>\n",
       "      <th>Loan Porfolio Profitability</th>\n",
       "    </tr>\n",
       "  </thead>\n",
       "  <tbody>\n",
       "    <tr>\n",
       "      <th>0</th>\n",
       "      <td>2002</td>\n",
       "      <td>5.90</td>\n",
       "      <td>46.7</td>\n",
       "      <td>4.13</td>\n",
       "      <td>11.4</td>\n",
       "      <td>0.81</td>\n",
       "      <td>0.57</td>\n",
       "      <td>0.64</td>\n",
       "      <td>2.0</td>\n",
       "      <td>3.9</td>\n",
       "      <td>14.77</td>\n",
       "    </tr>\n",
       "    <tr>\n",
       "      <th>1</th>\n",
       "      <td>2003</td>\n",
       "      <td>6.63</td>\n",
       "      <td>45.0</td>\n",
       "      <td>4.00</td>\n",
       "      <td>13.5</td>\n",
       "      <td>0.77</td>\n",
       "      <td>0.57</td>\n",
       "      <td>0.64</td>\n",
       "      <td>2.0</td>\n",
       "      <td>3.9</td>\n",
       "      <td>13.68</td>\n",
       "    </tr>\n",
       "    <tr>\n",
       "      <th>2</th>\n",
       "      <td>2004</td>\n",
       "      <td>7.49</td>\n",
       "      <td>45.5</td>\n",
       "      <td>4.00</td>\n",
       "      <td>12.0</td>\n",
       "      <td>0.85</td>\n",
       "      <td>0.66</td>\n",
       "      <td>0.64</td>\n",
       "      <td>2.0</td>\n",
       "      <td>3.9</td>\n",
       "      <td>17.07</td>\n",
       "    </tr>\n",
       "    <tr>\n",
       "      <th>3</th>\n",
       "      <td>2005</td>\n",
       "      <td>8.73</td>\n",
       "      <td>52.8</td>\n",
       "      <td>4.20</td>\n",
       "      <td>11.9</td>\n",
       "      <td>0.77</td>\n",
       "      <td>0.59</td>\n",
       "      <td>0.64</td>\n",
       "      <td>2.0</td>\n",
       "      <td>3.9</td>\n",
       "      <td>11.75</td>\n",
       "    </tr>\n",
       "    <tr>\n",
       "      <th>4</th>\n",
       "      <td>2006</td>\n",
       "      <td>8.09</td>\n",
       "      <td>53.3</td>\n",
       "      <td>4.40</td>\n",
       "      <td>11.7</td>\n",
       "      <td>0.71</td>\n",
       "      <td>0.54</td>\n",
       "      <td>0.64</td>\n",
       "      <td>2.0</td>\n",
       "      <td>3.9</td>\n",
       "      <td>13.80</td>\n",
       "    </tr>\n",
       "    <tr>\n",
       "      <th>5</th>\n",
       "      <td>2007</td>\n",
       "      <td>8.44</td>\n",
       "      <td>50.5</td>\n",
       "      <td>4.00</td>\n",
       "      <td>6.7</td>\n",
       "      <td>0.65</td>\n",
       "      <td>0.50</td>\n",
       "      <td>0.64</td>\n",
       "      <td>2.0</td>\n",
       "      <td>3.9</td>\n",
       "      <td>10.67</td>\n",
       "    </tr>\n",
       "    <tr>\n",
       "      <th>6</th>\n",
       "      <td>2008</td>\n",
       "      <td>8.50</td>\n",
       "      <td>41.6</td>\n",
       "      <td>3.80</td>\n",
       "      <td>5.8</td>\n",
       "      <td>0.58</td>\n",
       "      <td>0.44</td>\n",
       "      <td>0.53</td>\n",
       "      <td>1.4</td>\n",
       "      <td>2.3</td>\n",
       "      <td>9.40</td>\n",
       "    </tr>\n",
       "    <tr>\n",
       "      <th>7</th>\n",
       "      <td>2009</td>\n",
       "      <td>10.10</td>\n",
       "      <td>26.4</td>\n",
       "      <td>3.50</td>\n",
       "      <td>9.0</td>\n",
       "      <td>0.82</td>\n",
       "      <td>0.60</td>\n",
       "      <td>0.76</td>\n",
       "      <td>2.0</td>\n",
       "      <td>4.0</td>\n",
       "      <td>13.80</td>\n",
       "    </tr>\n",
       "    <tr>\n",
       "      <th>8</th>\n",
       "      <td>2010</td>\n",
       "      <td>8.80</td>\n",
       "      <td>26.8</td>\n",
       "      <td>3.90</td>\n",
       "      <td>7.4</td>\n",
       "      <td>0.79</td>\n",
       "      <td>0.62</td>\n",
       "      <td>0.74</td>\n",
       "      <td>1.1</td>\n",
       "      <td>2.8</td>\n",
       "      <td>12.70</td>\n",
       "    </tr>\n",
       "    <tr>\n",
       "      <th>9</th>\n",
       "      <td>2011</td>\n",
       "      <td>10.20</td>\n",
       "      <td>27.9</td>\n",
       "      <td>3.30</td>\n",
       "      <td>7.2</td>\n",
       "      <td>0.68</td>\n",
       "      <td>0.55</td>\n",
       "      <td>0.64</td>\n",
       "      <td>1.6</td>\n",
       "      <td>1.6</td>\n",
       "      <td>8.30</td>\n",
       "    </tr>\n",
       "  </tbody>\n",
       "</table>\n",
       "</div>"
      ],
      "text/plain": [
       "   year  industry share of total deposits(%)  ROE(%)  ROA(%)  \\\n",
       "0  2002                                 5.90    46.7    4.13   \n",
       "1  2003                                 6.63    45.0    4.00   \n",
       "2  2004                                 7.49    45.5    4.00   \n",
       "3  2005                                 8.73    52.8    4.20   \n",
       "4  2006                                 8.09    53.3    4.40   \n",
       "5  2007                                 8.44    50.5    4.00   \n",
       "6  2008                                 8.50    41.6    3.80   \n",
       "7  2009                                10.10    26.4    3.50   \n",
       "8  2010                                 8.80    26.8    3.90   \n",
       "9  2011                                10.20    27.9    3.30   \n",
       "\n",
       "   net interest margin(%)  Liquid Fnds/Tot Dep  Liquid Funds/Tot Assets  \\\n",
       "0                    11.4                 0.81                     0.57   \n",
       "1                    13.5                 0.77                     0.57   \n",
       "2                    12.0                 0.85                     0.66   \n",
       "3                    11.9                 0.77                     0.59   \n",
       "4                    11.7                 0.71                     0.54   \n",
       "5                     6.7                 0.65                     0.50   \n",
       "6                     5.8                 0.58                     0.44   \n",
       "7                     9.0                 0.82                     0.60   \n",
       "8                     7.4                 0.79                     0.62   \n",
       "9                     7.2                 0.68                     0.55   \n",
       "\n",
       "   Liquid Funds/Tot Interest Bearing Liab  \\\n",
       "0                                    0.64   \n",
       "1                                    0.64   \n",
       "2                                    0.64   \n",
       "3                                    0.64   \n",
       "4                                    0.64   \n",
       "5                                    0.64   \n",
       "6                                    0.53   \n",
       "7                                    0.76   \n",
       "8                                    0.74   \n",
       "9                                    0.64   \n",
       "\n",
       "   Impairment charge/Gross Lns Advancemnt  \\\n",
       "0                                     2.0   \n",
       "1                                     2.0   \n",
       "2                                     2.0   \n",
       "3                                     2.0   \n",
       "4                                     2.0   \n",
       "5                                     2.0   \n",
       "6                                     1.4   \n",
       "7                                     2.0   \n",
       "8                                     1.1   \n",
       "9                                     1.6   \n",
       "\n",
       "   Impairment Allowance/Gross Lns and Advancements  \\\n",
       "0                                              3.9   \n",
       "1                                              3.9   \n",
       "2                                              3.9   \n",
       "3                                              3.9   \n",
       "4                                              3.9   \n",
       "5                                              3.9   \n",
       "6                                              2.3   \n",
       "7                                              4.0   \n",
       "8                                              2.8   \n",
       "9                                              1.6   \n",
       "\n",
       "   Loan Porfolio Profitability  \n",
       "0                        14.77  \n",
       "1                        13.68  \n",
       "2                        17.07  \n",
       "3                        11.75  \n",
       "4                        13.80  \n",
       "5                        10.67  \n",
       "6                         9.40  \n",
       "7                        13.80  \n",
       "8                        12.70  \n",
       "9                         8.30  "
      ]
     },
     "execution_count": 80,
     "metadata": {},
     "output_type": "execute_result"
    }
   ],
   "source": [
    "df.head(10)"
   ]
  },
  {
   "cell_type": "markdown",
   "id": "af446f52",
   "metadata": {},
   "source": [
    "## Financial Ratio Analysis\n",
    " "
   ]
  },
  {
   "cell_type": "markdown",
   "id": "f4ff414c",
   "metadata": {},
   "source": [
    "## Trends on Profitability - ROE, ROA, NIM."
   ]
  },
  {
   "cell_type": "code",
   "execution_count": 81,
   "id": "53df1008",
   "metadata": {},
   "outputs": [
    {
     "data": {
      "image/png": "[encoded data removed]",
      "text/plain": [
       "<Figure size 432x288 with 1 Axes>"
      ]
     },
     "metadata": {
      "needs_background": "light"
     },
     "output_type": "display_data"
    }
   ],
   "source": [
    "#RETURN ON EQUITY\n",
    "\n",
    "# Plot the return on asset values\n",
    "plt.plot(df['year'], df['ROE(%)'], color='blue', marker='o')\n",
    "\n",
    "# Set the title and labels\n",
    "plt.title('Return on Equity (ROE)')\n",
    "plt.xlabel('Year')\n",
    "plt.ylabel('ROE (%)')\n",
    "\n",
    "# Display the plot\n",
    "plt.show()\n"
   ]
  },
  {
   "cell_type": "markdown",
   "id": "8ef2d8b5",
   "metadata": {},
   "source": [
    "Return on equity (ROE) is a financial ratio that measures a company's profitability by showing how much profit the company generates with the money shareholders have invested. It is calculated by dividing a company's net income by its average shareholders' equity over a specific period of time.\n",
    "From the figure above these ROE values indicate that the bank was profitable for much of the period, with some fluctuations in profitability. However, towards the end of the period, the bank experienced a significant decline in profitability, which may require further investigation to determine the cause."
   ]
  },
  {
   "cell_type": "code",
   "execution_count": 82,
   "id": "2d1290b6",
   "metadata": {},
   "outputs": [
    {
     "data": {
      "image/png": "[encoded data removed]",
      "text/plain": [
       "<Figure size 432x288 with 1 Axes>"
      ]
     },
     "metadata": {
      "needs_background": "light"
     },
     "output_type": "display_data"
    }
   ],
   "source": [
    "#RETURN ON ASSETS\n",
    "\n",
    "# Plot the return on asset values\n",
    "plt.plot(df['year'], df['ROA(%)'], color='blue', marker='o')\n",
    "\n",
    "# Set the title and labels\n",
    "plt.title('ROA(%)')\n",
    "plt.xlabel('year')\n",
    "plt.ylabel('ROA(%)')\n",
    "\n",
    "# Display the plot\n",
    "plt.show()\n",
    "\n"
   ]
  },
  {
   "cell_type": "markdown",
   "id": "50d98efa",
   "metadata": {},
   "source": [
    "Return on Assets (ROA) is a financial ratio that measures a company's profitability by dividing its net income by its total assets. It is expressed as a percentage.ROA indicates how effectively a company is using its assets to generate profits. A high ROA suggests that a company is generating significant profits relative to the size of its asset base, while a low ROA indicates that a company is not using its assets as effectively to generate profits.\n",
    "From the above figure,it suggests that the company is generating profits from its assets, but the profitability has varied over the years. "
   ]
  },
  {
   "cell_type": "code",
   "execution_count": 83,
   "id": "2e58bc9f",
   "metadata": {},
   "outputs": [
    {
     "data": {
      "image/png": "[encoded data removed]",
      "text/plain": [
       "<Figure size 432x288 with 1 Axes>"
      ]
     },
     "metadata": {
      "needs_background": "light"
     },
     "output_type": "display_data"
    }
   ],
   "source": [
    "#NET INTEREST MARGIN\n",
    "\n",
    "# Plot the return on asset values\n",
    "plt.plot(df['year'], df['net interest margin(%)'], color='blue', marker='o')\n",
    "\n",
    "# Set the title and labels\n",
    "plt.title('net interest margin(%)')\n",
    "plt.xlabel('year')\n",
    "plt.ylabel('net interest margin(%)')\n",
    "\n",
    "# Display the plot\n",
    "plt.show()"
   ]
  },
  {
   "cell_type": "markdown",
   "id": "315d3ac9",
   "metadata": {},
   "source": [
    "Net interest margin (NIM) is a measure of a bank's profitability that reflects the difference between the interest income earned on loans, securities, and other interest-bearing assets, and the interest expense paid on deposits and other interest-bearing liabilities.From the data suggests that the bank has experienced some volatility in its profitability over the period of time."
   ]
  },
  {
   "cell_type": "markdown",
   "id": "bf17d65c",
   "metadata": {},
   "source": [
    "## Trends on Liquidity"
   ]
  },
  {
   "cell_type": "markdown",
   "id": "bdb96834",
   "metadata": {},
   "source": [
    "#### Liquid funds/Total deposits "
   ]
  },
  {
   "cell_type": "code",
   "execution_count": 84,
   "id": "567174de",
   "metadata": {},
   "outputs": [
    {
     "data": {
      "image/png": "[encoded data removed]",
      "text/plain": [
       "<Figure size 432x288 with 1 Axes>"
      ]
     },
     "metadata": {
      "needs_background": "light"
     },
     "output_type": "display_data"
    }
   ],
   "source": [
    "\n",
    "plt.plot(df['year'], df['Liquid Fnds/Tot Dep'], color='blue', marker='o')\n",
    "\n",
    "# Set the title and labels\n",
    "plt.title('Liquid Fnds/Tot Dep')\n",
    "plt.xlabel('year')\n",
    "plt.ylabel('Liquid Fnds/Tot Dep')\n",
    "\n",
    "# Display the plot\n",
    "plt.show()"
   ]
  },
  {
   "cell_type": "markdown",
   "id": "2ffead2e",
   "metadata": {},
   "source": [
    "The ratio of liquid funds to total deposits is a measure of a bank's liquidity position. Liquid funds refer to cash or cash equivalents that a bank holds on hand or can easily convert into cash to meet its short-term funding requirements. Total deposits, on the other hand, refer to the total amount of funds that customers have deposited with the bank.\n",
    "\n",
    "The ratio of liquid funds to total deposits indicates the extent to which a bank is able to meet its short-term funding needs by relying on its own resources rather than external funding sources. A higher ratio indicates that the bank has a higher level of liquidity and is better able to meet unexpected funding needs, such as a sudden increase in deposit withdrawals or unexpected loan demand."
   ]
  },
  {
   "cell_type": "markdown",
   "id": "4ddc1213",
   "metadata": {},
   "source": [
    "#### liquid funds/total interest bearing liabilities"
   ]
  },
  {
   "cell_type": "code",
   "execution_count": 85,
   "id": "74d699b8",
   "metadata": {},
   "outputs": [
    {
     "data": {
      "image/png": "[encoded data removed]",
      "text/plain": [
       "<Figure size 432x288 with 1 Axes>"
      ]
     },
     "metadata": {
      "needs_background": "light"
     },
     "output_type": "display_data"
    }
   ],
   "source": [
    "\n",
    "plt.plot(df['year'], df['Liquid Funds/Tot Interest Bearing Liab'], color='red', marker='o')\n",
    "\n",
    "# Set the title and labels\n",
    "plt.title('Liquid Funds/Tot Interest Bearing Liab')\n",
    "plt.xlabel('year')\n",
    "plt.ylabel('Liquid Funds/Tot Interest Bearing Liab')\n",
    "\n",
    "# Display the plot\n",
    "plt.show()"
   ]
  },
  {
   "cell_type": "markdown",
   "id": "b83be0e8",
   "metadata": {},
   "source": [
    "The ratio of liquid funds to total interest-bearing liabilities is a measure of a financial institution's ability to meet its short-term obligations to its creditors. Interest-bearing liabilities are debts that a financial institution owes to its creditors and on which it pays interest, such as deposits and other borrowings. Liquid funds, on the other hand, are funds that a financial institution holds in the form of cash or assets that can be easily converted into cash.\n",
    "\n",
    "A higher ratio of liquid funds to total interest-bearing liabilities indicates that a financial institution has a larger buffer of liquid funds available to meet its short-term obligations to its creditors, which reduces its liquidity risk. On the other hand, a lower ratio indicates that the financial institution has fewer liquid funds available and may face difficulties in meeting its short-term obligations.\n",
    "From the chart above, we can see that the ratio has remained relatively stable for the first six observations, with a consistent value of 0.64. This is because the dataset has missing values for that period and had to be filled with the median value\n",
    "\n",
    "However, from the seventh observation onwards, we can see that the ratio begins to fluctuate more significantly, ranging from a low of 0.53 to a high of 0.76. This indicates that the financial institution's liquidity position may have become more volatile or unpredictable during this time period."
   ]
  },
  {
   "cell_type": "markdown",
   "id": "d6ab3e8f",
   "metadata": {},
   "source": [
    "## Asset Quality"
   ]
  },
  {
   "cell_type": "markdown",
   "id": "8a220f3a",
   "metadata": {},
   "source": [
    "#### Impairment charge/Gross Loans Advancement  "
   ]
  },
  {
   "cell_type": "code",
   "execution_count": 86,
   "id": "773651bc",
   "metadata": {},
   "outputs": [
    {
     "data": {
      "image/png": "[encoded data removed]",
      "text/plain": [
       "<Figure size 432x288 with 1 Axes>"
      ]
     },
     "metadata": {
      "needs_background": "light"
     },
     "output_type": "display_data"
    }
   ],
   "source": [
    "plt.plot(df['year'], df['Impairment charge/Gross Lns Advancemnt'], color='red', marker='o')\n",
    "\n",
    "# Set the title and labels\n",
    "plt.title('Impairment charge/Gross Lns Advancemnt')\n",
    "plt.xlabel('year')\n",
    "plt.ylabel('Impairment charge/Gross Lns Advancemnt')\n",
    "\n",
    "# Display the plot\n",
    "plt.show()"
   ]
  },
  {
   "cell_type": "markdown",
   "id": "30baaff3",
   "metadata": {},
   "source": [
    "The impairment charge/gross loans advancement ratio is a measure of the quality of a financial institution's loan portfolio. The impairment charge represents the amount of money that a financial institution has set aside to cover potential losses on its loans, while gross loans advancement represents the total amount of loans that the institution has advanced to its customers.\n",
    "\n",
    "The impairment charge/gross loans advancement ratio is calculated by dividing the impairment charge by the gross loans advancement. A higher ratio indicates that the financial institution has set aside a larger proportion of its loans to cover potential losses, which may suggest that its loan portfolio is of lower quality or that it is experiencing credit-related difficulties.\n",
    "\n",
    "On the other hand, a lower ratio indicates that the financial institution has set aside a smaller proportion of its loans to cover potential losses, which may suggest that its loan portfolio is of higher quality and that it is experiencing fewer credit-related difficulties."
   ]
  },
  {
   "cell_type": "markdown",
   "id": "4c7cc7cd",
   "metadata": {},
   "source": [
    "#### Impairment Allowance/Gross Loans and Advancements"
   ]
  },
  {
   "cell_type": "code",
   "execution_count": 87,
   "id": "43b81200",
   "metadata": {},
   "outputs": [
    {
     "data": {
      "image/png": "[encoded data removed]",
      "text/plain": [
       "<Figure size 432x288 with 1 Axes>"
      ]
     },
     "metadata": {
      "needs_background": "light"
     },
     "output_type": "display_data"
    }
   ],
   "source": [
    "plt.plot(df['year'], df['Impairment Allowance/Gross Lns and Advancements'], color='red', marker='o')\n",
    "\n",
    "# Set the title and labels\n",
    "plt.title('Impairment Allowance/Gross Lns and Advancements')\n",
    "plt.xlabel('year')\n",
    "plt.ylabel('Impairment Allowance/Gross Lns and Advancements')\n",
    "\n",
    "# Display the plot\n",
    "plt.show()"
   ]
  },
  {
   "cell_type": "markdown",
   "id": "6de54705",
   "metadata": {},
   "source": [
    "The impairment allowance/gross loans and advancements ratio is a measure of the quality of a financial institution's loan portfolio. The impairment allowance represents the amount of money that a financial institution has set aside to cover potential losses on its loans, while gross loans and advancements represent the total amount of loans and advances that the institution has made to its customers.\n",
    "\n",
    "The impairment allowance/gross loans and advancements ratio is calculated by dividing the impairment allowance by the gross loans and advancements. A higher ratio indicates that the financial institution has set aside a larger proportion of its loans and advances to cover potential losses, which may suggest that its loan portfolio is of lower quality or that it is experiencing credit-related difficulties.\n",
    "\n",
    "On the other hand, a lower ratio indicates that the financial institution has set aside a smaller proportion of its loans and advances to cover potential losses, which may suggest that its loan portfolio is of higher quality and that it is experiencing fewer credit-related difficulties."
   ]
  },
  {
   "cell_type": "markdown",
   "id": "74fcecb0",
   "metadata": {},
   "source": [
    "## Comparing impairment allowance/gross loans and advancements ratio to impairment charge/gross loans advancement ratio"
   ]
  },
  {
   "cell_type": "code",
   "execution_count": 88,
   "id": "f16582fd",
   "metadata": {},
   "outputs": [
    {
     "data": {
      "image/png": "[encoded data removed]",
      "text/plain": [
       "<Figure size 432x288 with 2 Axes>"
      ]
     },
     "metadata": {
      "needs_background": "light"
     },
     "output_type": "display_data"
    }
   ],
   "source": [
    "fig, ax1 = plt.subplots()\n",
    "ax2 = ax1.twinx()\n",
    "ax1.plot(df.index, df['Impairment charge/Gross Lns Advancemnt'], color='blue')\n",
    "ax2.plot(df.index, df['Impairment Allowance/Gross Lns and Advancements'], color='red')\n",
    "ax1.set_xlabel('Time')\n",
    "ax1.set_ylabel('Impairment charge/Gross Lns Advancemnt', color='blue')\n",
    "ax2.set_ylabel('Impairment Allowance/Gross Lns and Advancements', color='red')\n",
    "ax1.tick_params(axis='y', labelcolor='blue')\n",
    "ax2.tick_params(axis='y', labelcolor='red')\n",
    "plt.show()"
   ]
  },
  {
   "cell_type": "markdown",
   "id": "f8b73428",
   "metadata": {},
   "source": [
    "The main difference between Impairment Charge/Gross Loans and Advancements and Impairment Allowance/Gross Loans and Advancements is that the former measures the actual amount of losses recognized on loans while the latter measures the estimated amount of losses that the financial institution expects to incur on its loan portfolio.\n",
    "\n",
    "Impairment Charge/Gross Loans and Advancements is calculated by dividing the actual impairment charges taken on loans by the total gross loans and advancements. This provides a measure of the actual losses that the financial institution has recognized on its loan portfolio.\n",
    "\n",
    "On the other hand, Impairment Allowance/Gross Loans and Advancements is calculated by dividing the total amount of allowances set aside for expected losses on loans by the total gross loans and advancements. This provides a measure of the estimated potential losses that the financial institution expects to incur on its loan portfolio.\n",
    "\n",
    "In other words, Impairment Charge/Gross Loans and Advancements reflects the historical losses that have already been incurred by the financial institution, while Impairment Allowance/Gross Loans and Advancements provides an estimate of the potential future losses that the financial institution expects to incur."
   ]
  },
  {
   "cell_type": "markdown",
   "id": "84c8fd06",
   "metadata": {},
   "source": [
    "#### Loan Porfolio Profitability"
   ]
  },
  {
   "cell_type": "code",
   "execution_count": 89,
   "id": "ebb68669",
   "metadata": {},
   "outputs": [
    {
     "data": {
      "image/png": "[encoded data removed]",
      "text/plain": [
       "<Figure size 432x288 with 1 Axes>"
      ]
     },
     "metadata": {
      "needs_background": "light"
     },
     "output_type": "display_data"
    }
   ],
   "source": [
    "plt.plot(df['year'], df['Loan Porfolio Profitability'], color='blue', marker='o')\n",
    "\n",
    "# Set the title and labels\n",
    "plt.title('Loan Porfolio Profitability')\n",
    "plt.xlabel('year')\n",
    "plt.ylabel('Loan Porfolio Profitability')\n",
    "\n",
    "# Display the plot\n",
    "plt.show()"
   ]
  },
  {
   "cell_type": "markdown",
   "id": "4bb27400",
   "metadata": {},
   "source": [
    "Loan portfolio profitability is a measure of the profitability of a bank's loan portfolio. It indicates how much profit the bank is earning on its loans relative to the amount of capital it has invested in them. This is an important measure of a bank's financial health and overall profitability.Loan portfolio profitability is an important metric for banks, as it can help investors and analysts to evaluate the bank's ability to generate earnings from its core business of lending. Banks with higher loan portfolio profitability ratios are generally considered to be more financially sound and profitable.\n",
    "\n",
    "The loan portfolio profitability for the bank over time seems to be fluctuating. It starts at a relatively high level of 14.77, but then drops to 13.68 in the second period. In the third period, the ratio increases to 17.07, indicating that the bank generated more profit on its loans relative to the size of its loan portfolio.\n"
   ]
  },
  {
   "cell_type": "markdown",
   "id": "25992235",
   "metadata": {},
   "source": [
    "## CONCLUSION"
   ]
  },
  {
   "cell_type": "markdown",
   "id": "d23f79a1",
   "metadata": {},
   "source": [
    "The bank's industry share of total deposits ranged from 5.9% to 12% during the period.\n",
    "\n",
    "The return on equity (ROE) for the bank varied between 24.9% and 53.3%, while the return on assets (ROA) ranged from 2.8% to 5.5%.\n",
    "\n",
    "The net interest margin (NIM) ranged from 5.8% to 13.5%. The liquidity ratios, such as Liquid Funds/Tot Dep, Liquid Funds/Tot Assets, and Liquid Funds/Tot Interest Bearing Liab, show that the bank maintained a good level of liquidity throughout the period.\n",
    "\n",
    "The impairment charge/Gross Lns Advancemnt and Impairment Allowance/Gross Lns and Advancements ratios indicate the bank's credit quality, with these ratios remaining stable over the years.\n",
    "\n",
    "Overall, the bank's financial ratios demonstrate a strong performance in terms of profitability, liquidity, and credit quality over the period. However, the declining trend in some ratios, such as ROA and NIM, in recent years is something to monitor, and could indicate increasing competition or other external factors affecting the bank's performance."
   ]
  },
  {
   "cell_type": "code",
   "execution_count": null,
   "id": "c223e189",
   "metadata": {},
   "outputs": [],
   "source": []
  }
 ],
 "metadata": {
  "kernelspec": {
   "display_name": "Python 3 (ipykernel)",
   "language": "python",
   "name": "python3"
  },
  "language_info": {
   "codemirror_mode": {
    "name": "ipython",
    "version": 3
   },
   "file_extension": ".py",
   "mimetype": "text/x-python",
   "name": "python",
   "nbconvert_exporter": "python",
   "pygments_lexer": "ipython3",
   "version": "3.9.12"
  }
 },
 "nbformat": 4,
 "nbformat_minor": 5
}
